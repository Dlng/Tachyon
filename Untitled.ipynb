{
 "cells": [
  {
   "cell_type": "code",
   "execution_count": 1,
   "metadata": {
    "collapsed": false
   },
   "outputs": [
    {
     "name": "stderr",
     "output_type": "stream",
     "text": [
      "Using Theano backend.\n"
     ]
    }
   ],
   "source": [
    "import time\n",
    "from model import Model \n",
    "from SPN2 import SPN\n",
    "import numpy as np\n",
    "import random\n",
    "import sys\n",
    "from keras.datasets import mnist"
   ]
  },
  {
   "cell_type": "code",
   "execution_count": 2,
   "metadata": {
    "collapsed": false
   },
   "outputs": [
    {
     "name": "stdout",
     "output_type": "stream",
     "text": [
      "('X_train original shape', (60000, 28, 28))\n",
      "('y_train original shape', (60000,))\n"
     ]
    }
   ],
   "source": [
    "nb_classes = 10\n",
    "\n",
    "# the data, shuffled and split between tran and test sets\n",
    "(X_train, y_train), (X_test, y_test) = mnist.load_data()\n",
    "print(\"X_train original shape\", X_train.shape)\n",
    "print(\"y_train original shape\", y_train.shape)"
   ]
  },
  {
   "cell_type": "code",
   "execution_count": 3,
   "metadata": {
    "collapsed": false
   },
   "outputs": [
    {
     "name": "stdout",
     "output_type": "stream",
     "text": [
      "('Training matrix shape', (60000, 784, 1))\n",
      "('Testing matrix shape', (10000, 784, 1))\n"
     ]
    }
   ],
   "source": [
    "X_train = X_train.reshape(60000, 784, 1)\n",
    "X_test = X_test.reshape(10000, 784, 1)\n",
    "X_train = X_train.astype('float32')\n",
    "X_test = X_test.astype('float32')\n",
    "X_train /= 255\n",
    "X_test /= 255\n",
    "print(\"Training matrix shape\", X_train.shape)\n",
    "print(\"Testing matrix shape\", X_test.shape)"
   ]
  },
  {
   "cell_type": "code",
   "execution_count": 4,
   "metadata": {
    "collapsed": false
   },
   "outputs": [],
   "source": [
    "from keras.utils import np_utils\n",
    "Y_train = np_utils.to_categorical(y_train, nb_classes)\n",
    "Y_test = np_utils.to_categorical(y_test, nb_classes)"
   ]
  },
  {
   "cell_type": "code",
   "execution_count": null,
   "metadata": {
    "collapsed": false
   },
   "outputs": [
    {
     "name": "stdout",
     "output_type": "stream",
     "text": [
      "print ur mom\n"
     ]
    },
    {
     "name": "stderr",
     "output_type": "stream",
     "text": [
      "/Users/PhyrexianDragon/anaconda/lib/python2.7/site-packages/tensorflow/python/ops/gradients.py:90: UserWarning: Converting sparse IndexedSlices to a dense Tensor of unknown shape. This may consume a large amount of memory.\n",
      "  \"Converting sparse IndexedSlices to a dense Tensor of unknown shape. \"\n"
     ]
    }
   ],
   "source": [
    "spn = SPN()\n",
    "spn.make_random_model(((30, 60), (2, 5)), 784, 10, cont=True, classify=True)#step=step)\n",
    "# my_spn.continuous = True\n",
    "spn.start_session()"
   ]
  },
  {
   "cell_type": "code",
   "execution_count": null,
   "metadata": {
    "collapsed": false
   },
   "outputs": [
    {
     "name": "stdout",
     "output_type": "stream",
     "text": [
      "Epoch 0\n"
     ]
    }
   ],
   "source": [
    "spn.train(1, data=X_train, labels=Y_train, count=False)"
   ]
  },
  {
   "cell_type": "code",
   "execution_count": null,
   "metadata": {
    "collapsed": true
   },
   "outputs": [],
   "source": [
    "#accuracy:\n",
    "total_loss = 0.0\n",
    "total_right = 0\n",
    "total = 0\n",
    "ms = 512\n",
    "a = 0\n",
    "b = 0\n",
    "for i in range(1+(len(X_test)-1)//ms):\n",
    "\tprint i + 1, '/', 1+(len(X_test)-1)//ms\n",
    "\tb = min((i+1)*ms, len(X_test))\n",
    "\tif a == b:\n",
    "\t\tbreak;\n",
    "\ttest_loss = spn.evaluate(X_test[a:b], Y_test[a:b])[0]\n",
    "\ttotal_loss += test_loss*(float(b - i*ms))\n",
    "    total += (b-i*ms)\n",
    "    pred = spn.predict(X_test[a:b])\n",
    "    argz = np.argmax(pred, axis=1)\n",
    "    argz2 = np.argmax(Y_test[a:b])\n",
    "    f = np.sum(np.array(argz==argz2))\n",
    "    total_right += f\n",
    "    test_loss = total_loss/float(len(my_spn.data.test))\n",
    "    total_loss = 0.0\n",
    "print total_right, '/', total, ' or ', str(float(total_right)/float(total)) + '%'"
   ]
  }
 ],
 "metadata": {
  "kernelspec": {
   "display_name": "Python 2",
   "language": "python",
   "name": "python2"
  },
  "language_info": {
   "codemirror_mode": {
    "name": "ipython",
    "version": 2
   },
   "file_extension": ".py",
   "mimetype": "text/x-python",
   "name": "python",
   "nbconvert_exporter": "python",
   "pygments_lexer": "ipython2",
   "version": "2.7.12"
  }
 },
 "nbformat": 4,
 "nbformat_minor": 0
}
